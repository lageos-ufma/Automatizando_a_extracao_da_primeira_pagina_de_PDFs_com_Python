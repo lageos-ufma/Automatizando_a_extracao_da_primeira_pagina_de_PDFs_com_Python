{
  "cells": [
    {
      "cell_type": "markdown",
      "metadata": {
        "id": "view-in-github",
        "colab_type": "text"
      },
      "source": [
        "<a href=\"https://colab.research.google.com/github/lageos-ufma/Automatizando_a_extracao_da_primeira_pagina_de_PDFs_com_Python/blob/main/Extrai_1pgPDF.ipynb\" target=\"_parent\"><img src=\"https://colab.research.google.com/assets/colab-badge.svg\" alt=\"Open In Colab\"/></a>"
      ]
    },
    {
      "cell_type": "code",
      "execution_count": null,
      "id": "d2c19caf",
      "metadata": {
        "id": "d2c19caf",
        "outputId": "6e43eddd-841e-4eb2-94f1-0be746e15b7a"
      },
      "outputs": [
        {
          "name": "stdout",
          "output_type": "stream",
          "text": [
            "Primeira página de 'AnaLaura.pdf' extraída e salva em 'AnaLaura_first_page.pdf'.\n",
            "Primeira página de 'Artigo1_Tese.pdf' extraída e salva em 'Artigo1_Tese_first_page.pdf'.\n",
            "Primeira página de 'Azevedo_et_al_2021.pdf' extraída e salva em 'Azevedo_et_al_2021_first_page.pdf'.\n",
            "Primeira página de 'Bardeira_et_al_2021.pdf' extraída e salva em 'Bardeira_et_al_2021_first_page.pdf'.\n",
            "Primeira página de 'Campos_et_al_2021.pdf' extraída e salva em 'Campos_et_al_2021_first_page.pdf'.\n",
            "Primeira página de 'Machado_AMB_2020.pdf' extraída e salva em 'Machado_AMB_2020_first_page.pdf'.\n",
            "Primeira página de 'Machado_ANÁLISE ESTRUTURAL DA PAISAGEM_2021.pdf' extraída e salva em 'Machado_ANÁLISE ESTRUTURAL DA PAISAGEM_2021_first_page.pdf'.\n",
            "Primeira página de 'Machado_Distribution of physical and chemical.pdf' extraída e salva em 'Machado_Distribution of physical and chemical_first_page.pdf'.\n",
            "Primeira página de 'Machado_Faria_Soares_Silva_2021.pdf' extraída e salva em 'Machado_Faria_Soares_Silva_2021_first_page.pdf'.\n",
            "Primeira página de 'Machado_Rodrigues_2020.pdf' extraída e salva em 'Machado_Rodrigues_2020_first_page.pdf'.\n",
            "Primeira página de 'MORPHOMETRIC_CHARACTERIZATION_OF_BANHO_AND_CAURA_B.pdf' extraída e salva em 'MORPHOMETRIC_CHARACTERIZATION_OF_BANHO_AND_CAURA_B_first_page.pdf'.\n",
            "Primeira página de 'Soares_etal_2022.pdf' extraída e salva em 'Soares_etal_2022_first_page.pdf'.\n"
          ]
        }
      ],
      "source": [
        "import os\n",
        "from PyPDF2 import PdfReader, PdfWriter\n",
        "\n",
        "def extract_first_page_from_pdfs(folder_path, num_pdfs=12):\n",
        "    pdf_files = [f for f in os.listdir(folder_path) if f.lower().endswith('.pdf')]\n",
        "    pdf_files = pdf_files[:num_pdfs] if num_pdfs < len(pdf_files) else pdf_files\n",
        "\n",
        "    for pdf_file in pdf_files:\n",
        "        pdf_path = os.path.join(folder_path, pdf_file)\n",
        "        output_file = os.path.splitext(pdf_file)[0] + '_first_page.pdf'\n",
        "\n",
        "        with open(pdf_path, 'rb') as file:\n",
        "            pdf_reader = PdfReader(file)\n",
        "            pdf_writer = PdfWriter()\n",
        "\n",
        "            if len(pdf_reader.pages) > 0:\n",
        "                page = pdf_reader.pages[0]\n",
        "                pdf_writer.add_page(page)\n",
        "\n",
        "                with open(output_file, 'wb') as output:\n",
        "                    pdf_writer.write(output)\n",
        "                print(f\"Primeira página de '{pdf_file}' extraída e salva em '{output_file}'.\")\n",
        "            else:\n",
        "                print(f\"O arquivo '{pdf_file}' está vazio ou não possui páginas.\")\n",
        "\n",
        "if __name__ == \"__main__\":\n",
        "    folder_path = \"H:/Certificados/Artigos\"  # Substitua pelo caminho real da pasta contendo os PDFs\n",
        "    num_pdfs_to_extract = 12\n",
        "    extract_first_page_from_pdfs(folder_path, num_pdfs_to_extract)\n"
      ]
    },
    {
      "cell_type": "code",
      "execution_count": null,
      "id": "65a974b2",
      "metadata": {
        "id": "65a974b2"
      },
      "outputs": [],
      "source": []
    }
  ],
  "metadata": {
    "kernelspec": {
      "display_name": "Python 3 (ipykernel)",
      "language": "python",
      "name": "python3"
    },
    "language_info": {
      "codemirror_mode": {
        "name": "ipython",
        "version": 3
      },
      "file_extension": ".py",
      "mimetype": "text/x-python",
      "name": "python",
      "nbconvert_exporter": "python",
      "pygments_lexer": "ipython3",
      "version": "3.10.12"
    },
    "colab": {
      "provenance": [],
      "include_colab_link": true
    }
  },
  "nbformat": 4,
  "nbformat_minor": 5
}